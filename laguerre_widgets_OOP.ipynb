{
 "cells": [
  {
   "cell_type": "code",
   "execution_count": 90,
   "id": "5785f4fa-6e7e-49a4-b7e1-09339026cb3f",
   "metadata": {
    "tags": []
   },
   "outputs": [],
   "source": [
    "import numpy as np\n",
    "import pandas as pd\n",
    "import matplotlib.pyplot as plt\n",
    "import ipywidgets\n",
    "import unittest"
   ]
  },
  {
   "cell_type": "code",
   "execution_count": 95,
   "id": "aa6d9b8e-2bd6-4668-9eb1-41eb23cb55a0",
   "metadata": {
    "tags": []
   },
   "outputs": [],
   "source": [
    "class Laguerre:\n",
    "    def __init__(self,beta,sigma):\n",
    "        self.beta = beta\n",
    "        self.sigma = sigma\n",
    "        \n",
    "    @property\n",
    "    def beta(self):\n",
    "        return self._beta\n",
    "    \n",
    "    @beta.setter\n",
    "    def beta(self, value):\n",
    "        self._beta = value\n",
    "    \n",
    "    @property \n",
    "    def sigma(self):\n",
    "        return self._sigma\n",
    "    \n",
    "    @sigma.setter\n",
    "    def sigma(self, value):\n",
    "        self._sigma = value\n",
    "        \n",
    "        \n",
    "    def laguerre_polynom(self, t, n):\n",
    "        if self.beta<0 or self.beta>self.sigma:\n",
    "            raise ValueError(\"Wrong parameters\")\n",
    "\n",
    "        l_prev = np.sqrt(self.sigma) * (1 - self.sigma * t) * np.exp(-self.beta * t / 2)\n",
    "        l_prev2 = np.sqrt(self.sigma) * np.exp(-self.beta * t / 2)\n",
    "        if n == 1:\n",
    "            return l_prev\n",
    "        if n == 0:\n",
    "            return l_prev2\n",
    "\n",
    "        for i in range(2, n + 1):\n",
    "            temp = l_prev\n",
    "            l_prev = (2 * i - 1 - self.sigma * t) * l_prev / i - (i - 1) * l_prev2 / i\n",
    "            l_prev2 = temp\n",
    "\n",
    "        return l_prev\n",
    "    \n",
    "    def laguerre_polynom_tabulation(self,n, t_max, t_step = 0.1):\n",
    "        t_values = np.arange(0, t_max, t_step)\n",
    "\n",
    "        laguerre_values = [self.laguerre_polynom(t=i,n=n) for i in t_values]\n",
    "\n",
    "        result = pd.DataFrame(data={'t': t_values, f'L_{n}': laguerre_values})\n",
    "\n",
    "        return result\n",
    "\n",
    "    def experiment(self, n_max = 20, eps = 1e-3, t_max = 100, t_points = 1000):\n",
    "        N = range(0, n_max + 1)\n",
    "        suitable_t = None\n",
    "\n",
    "        for t in np.linspace(0, t_max, t_points):\n",
    "            if all(abs(self.laguerre_polynom(t=t, n=n)) <= eps for n in N):\n",
    "                suitable_t = t\n",
    "                break\n",
    "\n",
    "        result = pd.DataFrame(data={'n': N, 'L_n':\n",
    "                                    [self.laguerre_polynom(t=suitable_t, n=n) for n in N]})\n",
    "\n",
    "        return suitable_t, result\n",
    "\n",
    "    def integral(f, a, b, int_points = 1000):\n",
    "        x = np.linspace(a, b, int_points)\n",
    "        s = sum([f(i) for i in x])\n",
    "        return s * abs(b - a) / int_points\n",
    "\n",
    "    def laguerre_transform(self, f, n_max, int_points = 10000):\n",
    "        def integrand(t):\n",
    "            alpha = self.sigma - self.beta\n",
    "            return f(t) * self.laguerre_polynom(t=t, n=n_max) * np.exp(-alpha * t)\n",
    "\n",
    "        t_max = self.experiment(n_max=n_max)[0]\n",
    "\n",
    "        return integral(integrand, 0, t_max, int_points)\n",
    "\n",
    "    def laguerre_transform_tabulation(self, f, n_max, int_points = 10000):\n",
    "        N = range(0, n_max+1)\n",
    "        return pd.DataFrame({'n': N, f'L_n': [self.laguerre_transform(f=f, n_max=n) for n in N]})\n",
    "\n",
    "    def inverse_laguerre_transform(h,t):\n",
    "\n",
    "        return sum([h[k] * self.laguerre_polynom(t=t, n=k) for k in range(0, len(h))])\n",
    "    \n",
    "    def widget_1(a):\n",
    "        wd1 = ipywidgets.IntSlider(min=1,max=40,value=1)\n",
    "        wd2 = ipywidgets.IntSlider(min=1,max=40,value=1)\n",
    "\n",
    "        def interactive_laguerre_polynom_tabulation(n, t_max):\n",
    "            display(a.laguerre_polynom_tabulation(n=n, t_max=t_max))\n",
    "            \n",
    "        ipywidgets.interact(interactive_laguerre_polynom_tabulation, n=wd1, t_max=wd2)"
   ]
  },
  {
   "cell_type": "code",
   "execution_count": 96,
   "id": "22c37565-1eac-4224-b2a8-998916923469",
   "metadata": {
    "tags": []
   },
   "outputs": [
    {
     "data": {
      "application/vnd.jupyter.widget-view+json": {
       "model_id": "d010b3b63b254e85ac6457db573f8917",
       "version_major": 2,
       "version_minor": 0
      },
      "text/plain": [
       "interactive(children=(IntSlider(value=1, description='n', max=40, min=1), IntSlider(value=1, description='t_ma…"
      ]
     },
     "metadata": {},
     "output_type": "display_data"
    }
   ],
   "source": [
    "laguerre_instance = Laguerre(2.0, 4.0)\n",
    "Laguerre.widget_1(laguerre_instance)"
   ]
  },
  {
   "cell_type": "code",
   "execution_count": 102,
   "id": "07e405d2-273c-4e56-9b97-e9e70df9f2c6",
   "metadata": {
    "tags": []
   },
   "outputs": [],
   "source": [
    "class Laguerre_plot:\n",
    "    def __init__(self, laguerre):\n",
    "        self.laguerre = laguerre\n",
    "    \n",
    "    @property \n",
    "    def laguerre(self):\n",
    "        return self._laguerre\n",
    "        \n",
    "    @laguerre.setter\n",
    "    def laguerre(self, value):\n",
    "        self._laguerre = value\n",
    "\n",
    "    def laguerre_polynom_plot(self, t_max, n_max, t_step=0.01):\n",
    "        plt.figure(figsize=(20, 15))\n",
    "\n",
    "        for n in range(0, n_max + 1):\n",
    "            l_n_tabulation = self.laguerre.laguerre_polynom_tabulation(n=n, t_max=t_max, t_step=t_step)\n",
    "            plt.plot(l_n_tabulation['t'], l_n_tabulation[f'L_{n}'], label=f'L_{n}')\n",
    "\n",
    "        plt.title('Laguerre Polynomials')\n",
    "        plt.xlabel('t')\n",
    "        plt.ylabel('L_n(t)')\n",
    "        plt.legend()\n",
    "        plt.grid()\n",
    "        plt.show()\n",
    "\n",
    "    def laguerre_transform_plot(self, f, n_max, t_max=np.pi * 2, t_step=0.01, int_points=10000):\n",
    "        h = self.laguerre.laguerre_transform_tabulation(f=f, n_max=n_max)['L_n'].tolist()\n",
    "\n",
    "        T = np.arange(0, t_max, t_step)\n",
    "        inverse_laguerre_transform_tabulation = pd.DataFrame({'t': T, 'h': [self.laguerre.laguerre_transform(h=h, n_max=n_max, t=t) for t in T]})\n",
    "\n",
    "        plt.figure(figsize=(10, 10))\n",
    "        plt.plot(inverse_laguerre_transform_tabulation['t'], inverse_laguerre_transform_tabulation['h'])\n",
    "        plt.title('Inverse Laguerre Transform')\n",
    "        plt.xlabel('t')\n",
    "        plt.ylabel('func(t)')\n",
    "        plt.grid()\n",
    "        plt.show()\n",
    "    \n",
    "    def print_widget(self):\n",
    "        wd1 = ipywidgets.IntSlider(min=1,max=40,value=1)\n",
    "        wd2 = ipywidgets.IntSlider(min=1,max=40,value=1)\n",
    "        ipywidgets.interact(self.laguerre_polynom_plot, t_max=wd1, n_max=wd2, t_step = ipywidgets.fixed(0.001), beta= ipywidgets.fixed(2.0), sigma= ipywidgets.fixed(4.0))"
   ]
  },
  {
   "cell_type": "code",
   "execution_count": 103,
   "id": "04e8d1b6-21b4-4578-a5f8-75c20c824b01",
   "metadata": {
    "tags": []
   },
   "outputs": [
    {
     "data": {
      "application/vnd.jupyter.widget-view+json": {
       "model_id": "7efdf1c6c2e5457dab1877f5f934f5d8",
       "version_major": 2,
       "version_minor": 0
      },
      "text/plain": [
       "interactive(children=(IntSlider(value=1, description='t_max', max=40, min=1), IntSlider(value=1, description='…"
      ]
     },
     "metadata": {},
     "output_type": "display_data"
    }
   ],
   "source": [
    "laguerre_instance = Laguerre(2.0, 4.0) \n",
    "laguerre_plot_instance = Laguerre_plot(laguerre_instance)\n",
    "laguerre_plot_instance.print_widget()"
   ]
  },
  {
   "cell_type": "code",
   "execution_count": 116,
   "id": "6a77f438-59d8-4434-82b7-db5c4edb66d1",
   "metadata": {
    "tags": []
   },
   "outputs": [
    {
     "name": "stderr",
     "output_type": "stream",
     "text": [
      "..........\n",
      "----------------------------------------------------------------------\n",
      "Ran 10 tests in 0.024s\n",
      "\n",
      "OK\n"
     ]
    },
    {
     "data": {
      "text/plain": [
       "<unittest.main.TestProgram at 0x108eab9d0>"
      ]
     },
     "execution_count": 116,
     "metadata": {},
     "output_type": "execute_result"
    }
   ],
   "source": [
    "class TestLaguerre(unittest.TestCase):\n",
    "    def setUp(self):\n",
    "        self.laguerre = Laguerre(beta=2.0, sigma=4.0)\n",
    "        self.initial_beta = 2.0\n",
    "        self.initial_sigma = 4.0\n",
    "        self.initial_laguerre = Laguerre(beta=self.initial_beta, sigma=self.initial_sigma)\n",
    "    \n",
    "    def test_beta_setter_valid(self):\n",
    "        self.laguerre.beta = 3.0\n",
    "        self.assertEqual(self.laguerre.beta, 3.0)\n",
    "\n",
    "    def test_beta_setter_invalid(self):\n",
    "        with self.assertRaises(ValueError):\n",
    "            self.laguerre.beta = -1.0\n",
    "\n",
    "    def test_sigma_setter_valid(self):\n",
    "        self.laguerre.sigma = 5.0\n",
    "        self.assertEqual(self.laguerre.sigma, 5.0)\n",
    "\n",
    "    def test_sigma_setter_invalid(self):\n",
    "        with self.assertRaises(ValueError):\n",
    "            self.laguerre.sigma = -1.0\n",
    "\n",
    "    def test_beta_property(self):\n",
    "        self.assertEqual(self.initial_laguerre.beta, self.initial_beta)\n",
    "        \n",
    "        new_valid_beta = 3.0\n",
    "        self.initial_laguerre.beta = new_valid_beta\n",
    "        self.assertEqual(self.initial_laguerre.beta, new_valid_beta)\n",
    "\n",
    "        with self.assertRaises(ValueError):\n",
    "            self.initial_laguerre.beta = -1.0\n",
    "\n",
    "    def test_sigma_property(self):\n",
    "        self.assertEqual(self.initial_laguerre.sigma, self.initial_sigma)\n",
    "\n",
    "        new_valid_sigma = 5.0\n",
    "        self.initial_laguerre.sigma = new_valid_sigma\n",
    "        self.assertEqual(self.initial_laguerre.sigma, new_valid_sigma)\n",
    "\n",
    "        with self.assertRaises(ValueError):\n",
    "            self.initial_laguerre.sigma = -1.0\n",
    "        \n",
    "    def test_laguerre_polynom(self):\n",
    "        result_n0 = self.laguerre.laguerre_polynom(0.5, 0)\n",
    "        expected_n0 = np.sqrt(self.laguerre.sigma) * np.exp(-self.laguerre.beta * 0.5 / 2)\n",
    "        self.assertAlmostEqual(result_n0, expected_n0)\n",
    "\n",
    "        result_n1 = self.laguerre.laguerre_polynom(0.5, 1)\n",
    "        expected_n1 = np.sqrt(self.laguerre.sigma) * (1 - self.laguerre.sigma * 0.5) * np.exp(-self.laguerre.beta * 0.5 / 2)\n",
    "        self.assertAlmostEqual(result_n1, expected_n1)\n",
    "        \n",
    "    def test_laguerre_polynom_tabulation(self):\n",
    "        result = self.laguerre.laguerre_polynom_tabulation(3, 5, 0.1)\n",
    "        self.assertIsInstance(result, pd.DataFrame)\n",
    "        self.assertEqual(len(result), int(5 / 0.1))\n",
    "\n",
    "    def test_experiment(self):\n",
    "        result_t, result_df = self.laguerre.experiment(n_max=10, eps=1e-3, t_max=100, t_points=1000)\n",
    "        self.assertIsInstance(result_t, float)\n",
    "        self.assertIsInstance(result_df, pd.DataFrame)\n",
    "        self.assertTrue('n' in result_df.columns)\n",
    "        self.assertTrue('L_n' in result_df.columns)\n",
    "\n",
    "    def test_integral(self):\n",
    "        def f(x):\n",
    "            return x ** 2\n",
    "\n",
    "        result = Laguerre.integral(f, 0, 1, int_points=1000)\n",
    "        expected_result = 0.3335001668335001\n",
    "        self.assertAlmostEqual(result, expected_result)   \n",
    "            \n",
    "unittest.main(argv=[''], exit=False)"
   ]
  },
  {
   "cell_type": "code",
   "execution_count": null,
   "id": "9e94fc83-b8dd-4c19-aeb4-ac717a268f04",
   "metadata": {},
   "outputs": [],
   "source": []
  }
 ],
 "metadata": {
  "kernelspec": {
   "display_name": "Python 3 (ipykernel)",
   "language": "python",
   "name": "python3"
  },
  "language_info": {
   "codemirror_mode": {
    "name": "ipython",
    "version": 3
   },
   "file_extension": ".py",
   "mimetype": "text/x-python",
   "name": "python",
   "nbconvert_exporter": "python",
   "pygments_lexer": "ipython3",
   "version": "3.11.4"
  }
 },
 "nbformat": 4,
 "nbformat_minor": 5
}
