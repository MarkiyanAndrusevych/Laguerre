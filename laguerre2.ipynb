{
 "cells": [
  {
   "cell_type": "code",
   "execution_count": 1,
   "id": "10b0b452-0eac-43c4-ad48-38d9f2b0e063",
   "metadata": {
    "tags": []
   },
   "outputs": [],
   "source": [
    "import numpy as np\n",
    "import pandas as pd\n",
    "import matplotlib.pyplot as plt\n",
    "import ipywidgets"
   ]
  },
  {
   "cell_type": "code",
   "execution_count": 2,
   "id": "0ea295b9-39d5-4068-b1d1-aecafc64634e",
   "metadata": {},
   "outputs": [],
   "source": [
    "def laguerre_polynom(t, n, beta = 2.0, sigma = 4.0):\n",
    "    if beta<0 or beta>sigma:\n",
    "        raise ValueError(\"Wrong parameters\")\n",
    "\n",
    "    l_prev = np.sqrt(sigma) * (1 - sigma * t) * np.exp(-beta * t / 2)\n",
    "    l_prev2 = np.sqrt(sigma) * np.exp(-beta * t / 2)\n",
    "    if n == 1:\n",
    "        return l_prev\n",
    "    if n == 0:\n",
    "        return l_prev2\n",
    "\n",
    "    for i in range(2, n + 1):\n",
    "        temp = l_prev\n",
    "        l_prev = (2 * i - 1 - sigma * t) * l_prev / i - (i - 1) * l_prev2 / i\n",
    "        l_prev2 = temp\n",
    "\n",
    "    return l_prev"
   ]
  },
  {
   "cell_type": "code",
   "execution_count": 3,
   "id": "ae26bd37-48ea-4cf5-9f96-63135524e702",
   "metadata": {},
   "outputs": [
    {
     "data": {
      "text/plain": [
       "2.728331346558944"
      ]
     },
     "execution_count": 3,
     "metadata": {},
     "output_type": "execute_result"
    }
   ],
   "source": [
    "laguerre_polynom(\n",
    "    t=3,\n",
    "    n=5\n",
    ")"
   ]
  },
  {
   "cell_type": "code",
   "execution_count": 4,
   "id": "7e46d18c-4259-4202-9036-67491401031e",
   "metadata": {},
   "outputs": [],
   "source": [
    "def laguerre_polynom_tabulation(n, t_max, t_step = 0.1, beta = 2.0, sigma = 4.0):\n",
    "    t_values = np.arange(0, t_max, t_step)\n",
    "    \n",
    "    laguerre_values = [laguerre_polynom(t=i,n=n) for i in t_values]\n",
    "    \n",
    "    result = pd.DataFrame(data={'t': t_values, f'L_{n}': laguerre_values})\n",
    "    \n",
    "    return result"
   ]
  },
  {
   "cell_type": "code",
   "execution_count": 5,
   "id": "72bcb5b4-2952-48c1-99fe-d87dcf1adbef",
   "metadata": {
    "tags": []
   },
   "outputs": [],
   "source": [
    "wd1 = ipywidgets.IntSlider(min=1,max=40,value=1)\n",
    "wd2 = ipywidgets.IntSlider(min=1,max=40,value=1)"
   ]
  },
  {
   "cell_type": "code",
   "execution_count": 6,
   "id": "e46075da-79c8-4c62-9f81-3fae9cd282ad",
   "metadata": {
    "tags": []
   },
   "outputs": [
    {
     "data": {
      "application/vnd.jupyter.widget-view+json": {
       "model_id": "ad9ccc0d63b741db985915322a2c2d8a",
       "version_major": 2,
       "version_minor": 0
      },
      "text/plain": [
       "interactive(children=(IntSlider(value=1, description='n', max=40, min=1), IntSlider(value=1, description='t_ma…"
      ]
     },
     "metadata": {},
     "output_type": "display_data"
    },
    {
     "data": {
      "text/plain": [
       "<function __main__.laguerre_polynom_tabulation(n, t_max, t_step=0.1, beta=2.0, sigma=4.0)>"
      ]
     },
     "execution_count": 6,
     "metadata": {},
     "output_type": "execute_result"
    }
   ],
   "source": [
    "ipywidgets.interact(laguerre_polynom_tabulation, n=wd1, t_max=wd2, t_step = ipywidgets.fixed(0.1), beta= ipywidgets.fixed(2.0), sigma= ipywidgets.fixed(4.0))"
   ]
  },
  {
   "cell_type": "code",
   "execution_count": 7,
   "id": "ec88c28b-34fd-4efd-80c5-e448e978b7f0",
   "metadata": {
    "tags": []
   },
   "outputs": [],
   "source": [
    "def experiment(n_max = 20, eps = 1e-3, t_max = 100, t_points = 1000, beta = 2.0, sigma = 4.0):\n",
    "    N = range(0, n_max + 1)\n",
    "    suitable_t = None\n",
    "    \n",
    "    for t in np.linspace(0, t_max, t_points):\n",
    "        if all(abs(laguerre_polynom(t=t, n=n)) <= eps for n in N):\n",
    "            suitable_t = t\n",
    "            break\n",
    "\n",
    "    result = pd.DataFrame(data={'n': N, 'L_n':\n",
    "                                [laguerre_polynom(t=suitable_t, n=n) for n in N]})\n",
    "    \n",
    "    return suitable_t, result"
   ]
  },
  {
   "cell_type": "code",
   "execution_count": 8,
   "id": "b421e670-57dc-4c8c-9186-f8df8f35264e",
   "metadata": {
    "tags": []
   },
   "outputs": [
    {
     "name": "stdout",
     "output_type": "stream",
     "text": [
      "t = 79.07907907907908\n"
     ]
    },
    {
     "data": {
      "text/html": [
       "<div>\n",
       "<style scoped>\n",
       "    .dataframe tbody tr th:only-of-type {\n",
       "        vertical-align: middle;\n",
       "    }\n",
       "\n",
       "    .dataframe tbody tr th {\n",
       "        vertical-align: top;\n",
       "    }\n",
       "\n",
       "    .dataframe thead th {\n",
       "        text-align: right;\n",
       "    }\n",
       "</style>\n",
       "<table border=\"1\" class=\"dataframe\">\n",
       "  <thead>\n",
       "    <tr style=\"text-align: right;\">\n",
       "      <th></th>\n",
       "      <th>n</th>\n",
       "      <th>L_n</th>\n",
       "    </tr>\n",
       "  </thead>\n",
       "  <tbody>\n",
       "    <tr>\n",
       "      <th>0</th>\n",
       "      <td>0</td>\n",
       "      <td>9.066138e-35</td>\n",
       "    </tr>\n",
       "    <tr>\n",
       "      <th>1</th>\n",
       "      <td>1</td>\n",
       "      <td>-2.858701e-32</td>\n",
       "    </tr>\n",
       "    <tr>\n",
       "      <th>2</th>\n",
       "      <td>2</td>\n",
       "      <td>4.478343e-30</td>\n",
       "    </tr>\n",
       "    <tr>\n",
       "      <th>3</th>\n",
       "      <td>3</td>\n",
       "      <td>-4.647081e-28</td>\n",
       "    </tr>\n",
       "    <tr>\n",
       "      <th>4</th>\n",
       "      <td>4</td>\n",
       "      <td>3.593209e-26</td>\n",
       "    </tr>\n",
       "    <tr>\n",
       "      <th>5</th>\n",
       "      <td>5</td>\n",
       "      <td>-2.208132e-24</td>\n",
       "    </tr>\n",
       "    <tr>\n",
       "      <th>6</th>\n",
       "      <td>6</td>\n",
       "      <td>1.123332e-22</td>\n",
       "    </tr>\n",
       "    <tr>\n",
       "      <th>7</th>\n",
       "      <td>7</td>\n",
       "      <td>-4.865604e-21</td>\n",
       "    </tr>\n",
       "    <tr>\n",
       "      <th>8</th>\n",
       "      <td>8</td>\n",
       "      <td>1.831625e-19</td>\n",
       "    </tr>\n",
       "    <tr>\n",
       "      <th>9</th>\n",
       "      <td>9</td>\n",
       "      <td>-6.087176e-18</td>\n",
       "    </tr>\n",
       "    <tr>\n",
       "      <th>10</th>\n",
       "      <td>10</td>\n",
       "      <td>1.808168e-16</td>\n",
       "    </tr>\n",
       "    <tr>\n",
       "      <th>11</th>\n",
       "      <td>11</td>\n",
       "      <td>-4.848845e-15</td>\n",
       "    </tr>\n",
       "    <tr>\n",
       "      <th>12</th>\n",
       "      <td>12</td>\n",
       "      <td>1.183547e-13</td>\n",
       "    </tr>\n",
       "    <tr>\n",
       "      <th>13</th>\n",
       "      <td>13</td>\n",
       "      <td>-2.647728e-12</td>\n",
       "    </tr>\n",
       "    <tr>\n",
       "      <th>14</th>\n",
       "      <td>14</td>\n",
       "      <td>5.460659e-11</td>\n",
       "    </tr>\n",
       "    <tr>\n",
       "      <th>15</th>\n",
       "      <td>15</td>\n",
       "      <td>-1.043487e-09</td>\n",
       "    </tr>\n",
       "    <tr>\n",
       "      <th>16</th>\n",
       "      <td>16</td>\n",
       "      <td>1.855654e-08</td>\n",
       "    </tr>\n",
       "    <tr>\n",
       "      <th>17</th>\n",
       "      <td>17</td>\n",
       "      <td>-3.082750e-07</td>\n",
       "    </tr>\n",
       "    <tr>\n",
       "      <th>18</th>\n",
       "      <td>18</td>\n",
       "      <td>4.800407e-06</td>\n",
       "    </tr>\n",
       "    <tr>\n",
       "      <th>19</th>\n",
       "      <td>19</td>\n",
       "      <td>-7.027805e-05</td>\n",
       "    </tr>\n",
       "    <tr>\n",
       "      <th>20</th>\n",
       "      <td>20</td>\n",
       "      <td>9.699021e-04</td>\n",
       "    </tr>\n",
       "  </tbody>\n",
       "</table>\n",
       "</div>"
      ],
      "text/plain": [
       "     n           L_n\n",
       "0    0  9.066138e-35\n",
       "1    1 -2.858701e-32\n",
       "2    2  4.478343e-30\n",
       "3    3 -4.647081e-28\n",
       "4    4  3.593209e-26\n",
       "5    5 -2.208132e-24\n",
       "6    6  1.123332e-22\n",
       "7    7 -4.865604e-21\n",
       "8    8  1.831625e-19\n",
       "9    9 -6.087176e-18\n",
       "10  10  1.808168e-16\n",
       "11  11 -4.848845e-15\n",
       "12  12  1.183547e-13\n",
       "13  13 -2.647728e-12\n",
       "14  14  5.460659e-11\n",
       "15  15 -1.043487e-09\n",
       "16  16  1.855654e-08\n",
       "17  17 -3.082750e-07\n",
       "18  18  4.800407e-06\n",
       "19  19 -7.027805e-05\n",
       "20  20  9.699021e-04"
      ]
     },
     "execution_count": 8,
     "metadata": {},
     "output_type": "execute_result"
    }
   ],
   "source": [
    "t, df = experiment()\n",
    "print(f't = {t}')\n",
    "df"
   ]
  },
  {
   "cell_type": "code",
   "execution_count": 9,
   "id": "28d23d5e-138e-4445-908f-abb6ada247fb",
   "metadata": {
    "tags": []
   },
   "outputs": [],
   "source": [
    "def integral(f, a, b, int_points = 1000):\n",
    "    x = np.linspace(a, b, int_points)\n",
    "    s = sum([f(i) for i in x])\n",
    "    return s * abs(b - a) / int_points\n",
    "\n",
    "def laguerre_transform(f, n_max, int_points = 10000, beta = 2.0, sigma = 4.0):\n",
    "    def integrand(t):\n",
    "        alpha = sigma - beta\n",
    "        return f(t) * laguerre_polynom(t=t, n=n_max) * np.exp(-alpha * t)\n",
    "\n",
    "    t_max = experiment(n_max=n_max)[0]\n",
    "\n",
    "    return integral(integrand, 0, t_max, int_points)"
   ]
  },
  {
   "cell_type": "code",
   "execution_count": 10,
   "id": "17667d00-a1ca-453d-aac3-6bd8b127a1a2",
   "metadata": {
    "tags": []
   },
   "outputs": [],
   "source": [
    " def laguerre_transform_tabulation(f, n_max, int_points = 10000, sigma = 4.0, beta = 2.0):\n",
    "    N = range(0, n_max+1)\n",
    "    return pd.DataFrame({'n': N, f'L_n': [laguerre_transform(f=f, n_max=n) for n in N]})"
   ]
  },
  {
   "cell_type": "code",
   "execution_count": 11,
   "id": "de66ec52-541a-4460-b097-564397873e47",
   "metadata": {
    "tags": []
   },
   "outputs": [
    {
     "data": {
      "text/html": [
       "<div>\n",
       "<style scoped>\n",
       "    .dataframe tbody tr th:only-of-type {\n",
       "        vertical-align: middle;\n",
       "    }\n",
       "\n",
       "    .dataframe tbody tr th {\n",
       "        vertical-align: top;\n",
       "    }\n",
       "\n",
       "    .dataframe thead th {\n",
       "        text-align: right;\n",
       "    }\n",
       "</style>\n",
       "<table border=\"1\" class=\"dataframe\">\n",
       "  <thead>\n",
       "    <tr style=\"text-align: right;\">\n",
       "      <th></th>\n",
       "      <th>n</th>\n",
       "      <th>L_n</th>\n",
       "    </tr>\n",
       "  </thead>\n",
       "  <tbody>\n",
       "    <tr>\n",
       "      <th>0</th>\n",
       "      <td>0</td>\n",
       "      <td>0.066660</td>\n",
       "    </tr>\n",
       "    <tr>\n",
       "      <th>1</th>\n",
       "      <td>1</td>\n",
       "      <td>-0.182204</td>\n",
       "    </tr>\n",
       "    <tr>\n",
       "      <th>2</th>\n",
       "      <td>2</td>\n",
       "      <td>0.178056</td>\n",
       "    </tr>\n",
       "    <tr>\n",
       "      <th>3</th>\n",
       "      <td>3</td>\n",
       "      <td>-0.074283</td>\n",
       "    </tr>\n",
       "    <tr>\n",
       "      <th>4</th>\n",
       "      <td>4</td>\n",
       "      <td>0.007263</td>\n",
       "    </tr>\n",
       "    <tr>\n",
       "      <th>5</th>\n",
       "      <td>5</td>\n",
       "      <td>0.007587</td>\n",
       "    </tr>\n",
       "    <tr>\n",
       "      <th>6</th>\n",
       "      <td>6</td>\n",
       "      <td>-0.003096</td>\n",
       "    </tr>\n",
       "    <tr>\n",
       "      <th>7</th>\n",
       "      <td>7</td>\n",
       "      <td>-0.000615</td>\n",
       "    </tr>\n",
       "    <tr>\n",
       "      <th>8</th>\n",
       "      <td>8</td>\n",
       "      <td>0.000799</td>\n",
       "    </tr>\n",
       "    <tr>\n",
       "      <th>9</th>\n",
       "      <td>9</td>\n",
       "      <td>-0.000026</td>\n",
       "    </tr>\n",
       "    <tr>\n",
       "      <th>10</th>\n",
       "      <td>10</td>\n",
       "      <td>-0.000236</td>\n",
       "    </tr>\n",
       "    <tr>\n",
       "      <th>11</th>\n",
       "      <td>11</td>\n",
       "      <td>0.000053</td>\n",
       "    </tr>\n",
       "    <tr>\n",
       "      <th>12</th>\n",
       "      <td>12</td>\n",
       "      <td>0.000094</td>\n",
       "    </tr>\n",
       "    <tr>\n",
       "      <th>13</th>\n",
       "      <td>13</td>\n",
       "      <td>-0.000031</td>\n",
       "    </tr>\n",
       "    <tr>\n",
       "      <th>14</th>\n",
       "      <td>14</td>\n",
       "      <td>-0.000053</td>\n",
       "    </tr>\n",
       "    <tr>\n",
       "      <th>15</th>\n",
       "      <td>15</td>\n",
       "      <td>0.000011</td>\n",
       "    </tr>\n",
       "    <tr>\n",
       "      <th>16</th>\n",
       "      <td>16</td>\n",
       "      <td>0.000036</td>\n",
       "    </tr>\n",
       "    <tr>\n",
       "      <th>17</th>\n",
       "      <td>17</td>\n",
       "      <td>0.000005</td>\n",
       "    </tr>\n",
       "    <tr>\n",
       "      <th>18</th>\n",
       "      <td>18</td>\n",
       "      <td>-0.000023</td>\n",
       "    </tr>\n",
       "    <tr>\n",
       "      <th>19</th>\n",
       "      <td>19</td>\n",
       "      <td>-0.000015</td>\n",
       "    </tr>\n",
       "    <tr>\n",
       "      <th>20</th>\n",
       "      <td>20</td>\n",
       "      <td>0.000009</td>\n",
       "    </tr>\n",
       "  </tbody>\n",
       "</table>\n",
       "</div>"
      ],
      "text/plain": [
       "     n       L_n\n",
       "0    0  0.066660\n",
       "1    1 -0.182204\n",
       "2    2  0.178056\n",
       "3    3 -0.074283\n",
       "4    4  0.007263\n",
       "5    5  0.007587\n",
       "6    6 -0.003096\n",
       "7    7 -0.000615\n",
       "8    8  0.000799\n",
       "9    9 -0.000026\n",
       "10  10 -0.000236\n",
       "11  11  0.000053\n",
       "12  12  0.000094\n",
       "13  13 -0.000031\n",
       "14  14 -0.000053\n",
       "15  15  0.000011\n",
       "16  16  0.000036\n",
       "17  17  0.000005\n",
       "18  18 -0.000023\n",
       "19  19 -0.000015\n",
       "20  20  0.000009"
      ]
     },
     "execution_count": 11,
     "metadata": {},
     "output_type": "execute_result"
    }
   ],
   "source": [
    "def f(t):\n",
    "    if t >= 2 * np.pi:\n",
    "        return 0\n",
    "    return np.sin(t - np.pi / 2) + 1\n",
    "\n",
    "\n",
    "laguerre_transform_tabulation(\n",
    "    f=f,\n",
    "    n_max=20,\n",
    "    int_points=10000\n",
    ")"
   ]
  },
  {
   "cell_type": "code",
   "execution_count": 12,
   "id": "287d1c6c-d3f5-428a-89e4-71151a065a44",
   "metadata": {
    "tags": []
   },
   "outputs": [],
   "source": [
    "def inverse_laguerre_transform(h,t):\n",
    "\n",
    "    return sum([h[k] * laguerre_polynom(t=t, n=k) for k in range(0, len(h))])"
   ]
  },
  {
   "cell_type": "code",
   "execution_count": 13,
   "id": "7e120aa9-8f2c-4b23-af59-87eca9399d5c",
   "metadata": {
    "tags": []
   },
   "outputs": [
    {
     "data": {
      "text/plain": [
       "1.4159846860964822"
      ]
     },
     "execution_count": 13,
     "metadata": {},
     "output_type": "execute_result"
    }
   ],
   "source": [
    "h = laguerre_transform_tabulation(f=f,n_max=20,int_points=10000)['L_n'].tolist()\n",
    "\n",
    "inverse_laguerre_transform( h=h,t=2\n",
    ")"
   ]
  },
  {
   "cell_type": "code",
   "execution_count": 14,
   "id": "e547f4ee-8407-4f66-8fd2-ea0b6b56f1d0",
   "metadata": {
    "tags": []
   },
   "outputs": [],
   "source": [
    "def laguerre_polynom_plot(t_max, n_max, t_step = 0.01, beta = 2.0, sigma = 4.0):\n",
    "    plt.figure(figsize=(20, 15))\n",
    "\n",
    "    for n in range(0, n_max + 1):\n",
    "        l_n_tabulation = laguerre_polynom_tabulation(n=n,t_max=t_max,t_step=t_step)\n",
    "        plt.plot(l_n_tabulation.index, l_n_tabulation[f'L_{n}'], label='L_{' + str(n) + '}')\n",
    "\n",
    "    plt.title('Многочлени Лагера')\n",
    "    plt.xlabel('t')\n",
    "    plt.ylabel('L_n(t)')\n",
    "    plt.grid()\n",
    "    plt.savefig(\"graph1.png\")\n",
    "    plt.show()"
   ]
  },
  {
   "cell_type": "code",
   "execution_count": 15,
   "id": "6c98908a-d278-414d-806c-cc490e8794e1",
   "metadata": {
    "tags": []
   },
   "outputs": [],
   "source": [
    "wd1 = ipywidgets.IntSlider(min=1,max=40,value=1)\n",
    "wd2 = ipywidgets.IntSlider(min=1,max=40,value=1)"
   ]
  },
  {
   "cell_type": "code",
   "execution_count": 16,
   "id": "80bdcffa-094d-409e-84a2-04afc3f0fa37",
   "metadata": {
    "tags": []
   },
   "outputs": [
    {
     "data": {
      "application/vnd.jupyter.widget-view+json": {
       "model_id": "13a11a22621e487580e87c469bb760e4",
       "version_major": 2,
       "version_minor": 0
      },
      "text/plain": [
       "interactive(children=(IntSlider(value=1, description='t_max', max=40, min=1), IntSlider(value=1, description='…"
      ]
     },
     "metadata": {},
     "output_type": "display_data"
    },
    {
     "data": {
      "text/plain": [
       "<function __main__.laguerre_polynom_plot(t_max, n_max, t_step=0.01, beta=2.0, sigma=4.0)>"
      ]
     },
     "execution_count": 16,
     "metadata": {},
     "output_type": "execute_result"
    }
   ],
   "source": [
    "ipywidgets.interact(laguerre_polynom_plot, t_max=wd1, n_max=wd2, t_step = ipywidgets.fixed(0.001), beta= ipywidgets.fixed(2.0), sigma= ipywidgets.fixed(4.0))"
   ]
  },
  {
   "cell_type": "code",
   "execution_count": 17,
   "id": "4329f067-e9c1-47c6-b7a6-f88c57af6f64",
   "metadata": {
    "tags": []
   },
   "outputs": [],
   "source": [
    "def laguerre_transform_plot(f,n_max,t_max = np.pi * 2,t_step = 0.01,int_points = 10000,beta = 2.0,sigma = 4.0):\n",
    "\n",
    "    h = laguerre_transform_tabulation(f=f,n_max=n_max)['L_n'].tolist()\n",
    "\n",
    "    T = np.arange(0, t_max, t_step)\n",
    "    inverse_laguerre_transform_tabulation = pd.DataFrame(\n",
    "        {'t': T,'h': [inverse_laguerre_transform(h=h, t=t) for t in T]}\n",
    "    )\n",
    "\n",
    "    plt.figure(figsize=(10, 10))\n",
    "\n",
    "    plt.plot(\n",
    "        inverse_laguerre_transform_tabulation.index,\n",
    "        inverse_laguerre_transform_tabulation['h'],\n",
    "    )\n",
    "\n",
    "    plt.title('Обернене перетворення Лагера')\n",
    "    plt.xlabel('t')\n",
    "    plt.ylabel('func(t)')\n",
    "    plt.grid()\n",
    "    plt.savefig(\"graph2.png\")\n",
    "    plt.show()"
   ]
  },
  {
   "cell_type": "code",
   "execution_count": 18,
   "id": "ce543209-6830-4581-abfc-3097283978b7",
   "metadata": {
    "tags": []
   },
   "outputs": [
    {
     "data": {
      "image/png": "[encoded data removed]",
      "text/plain": [
       "<Figure size 1000x1000 with 1 Axes>"
      ]
     },
     "metadata": {},
     "output_type": "display_data"
    }
   ],
   "source": [
    "laguerre_transform_plot(\n",
    "    f=f,\n",
    "    n_max=20,\n",
    "    int_points=10000\n",
    ")"
   ]
  },
  {
   "cell_type": "code",
   "execution_count": 19,
   "id": "a8c50c5a-a199-472b-9b13-ab5608a3fd5a",
   "metadata": {},
   "outputs": [
    {
     "data": {
      "image/png": "[encoded data removed]",
      "text/plain": [
       "<Figure size 1000x1000 with 1 Axes>"
      ]
     },
     "metadata": {},
     "output_type": "display_data"
    }
   ],
   "source": [
    "def example(x):\n",
    "    return x**2-2*x\n",
    "laguerre_transform_plot(\n",
    "    f=example,  \n",
    "    n_max=20,\n",
    "    int_points=10000\n",
    ")"
   ]
  },
  {
   "cell_type": "code",
   "execution_count": null,
   "id": "f50b6742-c2f1-409b-985c-3bc7acd7f5dd",
   "metadata": {},
   "outputs": [],
   "source": []
  }
 ],
 "metadata": {
  "kernelspec": {
   "display_name": "Python 3 (ipykernel)",
   "language": "python",
   "name": "python3"
  },
  "language_info": {
   "codemirror_mode": {
    "name": "ipython",
    "version": 3
   },
   "file_extension": ".py",
   "mimetype": "text/x-python",
   "name": "python",
   "nbconvert_exporter": "python",
   "pygments_lexer": "ipython3",
   "version": "3.11.4"
  }
 },
 "nbformat": 4,
 "nbformat_minor": 5
}
