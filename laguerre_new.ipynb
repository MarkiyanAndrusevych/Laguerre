{
 "cells": [
  {
   "cell_type": "code",
   "execution_count": 1,
   "id": "ae1aaf1b-bd78-4ddf-86ff-34c0bdbb5294",
   "metadata": {
    "tags": []
   },
   "outputs": [],
   "source": [
    "import numpy as np\n",
    "import pandas as pd\n",
    "import unittest"
   ]
  },
  {
   "cell_type": "code",
   "execution_count": 2,
   "id": "59f52de6-eb11-42e2-be45-0398f09103af",
   "metadata": {
    "tags": []
   },
   "outputs": [],
   "source": [
    "class Laguerre:\n",
    "    def __init__(self,beta,sigma):\n",
    "        self.beta = beta\n",
    "        self.sigma = sigma\n",
    "            \n",
    "    @property\n",
    "    def beta(self):\n",
    "        return self._beta\n",
    "    \n",
    "    @property\n",
    "    def sigma(self):\n",
    "        return self._sigma\n",
    "    \n",
    "    @beta.setter\n",
    "    def beta(self, beta):\n",
    "        self._beta = beta\n",
    "        \n",
    "    @sigma.setter\n",
    "    def sigma(self, sigma):\n",
    "        self._sigma = sigma\n",
    "        \n",
    "    def laguerre_polynom(self, t, n):\n",
    "            \n",
    "        if n == 0:\n",
    "            return np.sqrt(self.sigma) * np.exp(-self.beta * t / 2)\n",
    "\n",
    "        \n",
    "        l_prev = np.sqrt(self.sigma) * (1 - self.sigma * t) * np.exp(-self.beta * t / 2)\n",
    "        l_prev2 = np.sqrt(self.sigma) * np.exp(-self.beta * t / 2)\n",
    "\n",
    "        for i in range(2, n + 1):\n",
    "            temp = l_prev\n",
    "            l_prev = (2 * i - 1 - self.sigma * t) * l_prev / i - (i - 1) * l_prev2 / i\n",
    "            l_prev2 = temp\n",
    "\n",
    "        return l_prev\n",
    "    \n",
    "    def laguerre_polynom_tabulation(self, n, t_max, t_step = 0.1):\n",
    "        t_values = np.arange(0, t_max, t_step)\n",
    "\n",
    "        laguerre_values = [self.laguerre_polynom(t=i,n=n) for i in t_values]\n",
    "\n",
    "        result = pd.DataFrame(data={'t': t_values, f'L_{n}': laguerre_values})\n",
    "\n",
    "        return result\n",
    "    \n",
    "    def laguerre_transform_tabulation(self, f, n_max, int_points = 10000):\n",
    "        N = range(0, n_max+1)\n",
    "        return pd.DataFrame({'n': N, f'L_n': [self.laguerre_transform(f=f, n_max=n) for n in N]})\n",
    "    \n",
    "    def inverse_laguerre_transform(self,h,t):\n",
    "        return sum([h[k] * self.laguerre_polynom(t=t, n=k) for k in range(0, len(h))])"
   ]
  },
  {
   "cell_type": "code",
   "execution_count": 3,
   "id": "d6bbc15a-934f-46ea-afb0-f01f8642d3c9",
   "metadata": {
    "tags": []
   },
   "outputs": [],
   "source": [
    "class Experiment:\n",
    "    def __init__(self,laguerre):\n",
    "        self.laguerre = laguerre\n",
    "        \n",
    "    @property\n",
    "    def laguerre(self):\n",
    "        return self._laguerre\n",
    "    \n",
    "    @laguerre.setter\n",
    "    def laguerre(self, value):\n",
    "        self._laguerre = value\n",
    "        \n",
    "    def experiment(self,n_max = 20, eps = 1e-3, t_max = 100, t_points = 1000):\n",
    "        N = range(0, n_max + 1)\n",
    "        suitable_t = 0\n",
    "\n",
    "        for t in np.linspace(0, t_max, t_points):\n",
    "            if all(abs(self.laguerre.laguerre_polynom(t, n)) <= eps for n in N):\n",
    "                suitable_t = t\n",
    "                break\n",
    "\n",
    "        result = pd.DataFrame(data={'n': N, 'L_n':\n",
    "                                    [self.laguerre.laguerre_polynom(suitable_t, n) for n in N]})\n",
    "\n",
    "        return result, suitable_t"
   ]
  },
  {
   "cell_type": "code",
   "execution_count": 4,
   "id": "6f85359a-6b8c-4a4f-bbfa-acc3f2c956e1",
   "metadata": {
    "tags": []
   },
   "outputs": [],
   "source": [
    "class Integral:\n",
    "    def __init__(self, laguerre, experiment):\n",
    "        self.laguerre = laguerre\n",
    "        self.experiment = experiment\n",
    "\n",
    "    def integral(self, f, a, b, int_points=1000):\n",
    "        x = np.linspace(a, b, int_points)\n",
    "        s = sum([f(i) for i in x])\n",
    "        return s * abs(b - a) / int_points\n",
    "\n",
    "    def laguerre_transform(self, f, n_max, int_points=10000):\n",
    "        def integrand(t):\n",
    "            alpha = self.laguerre.sigma - self.laguerre.beta\n",
    "            return f(t) * self.laguerre.laguerre_polynom(t=t, n=n_max) * np.exp(-alpha * t)\n",
    "\n",
    "        t_max = self.experiment.experiment(n_max=n_max)[0]\n",
    "\n",
    "        return self.integral(integrand, 0, t_max, int_points)"
   ]
  },
  {
   "cell_type": "code",
   "execution_count": 5,
   "id": "11a4e611-7161-4601-b11a-51725b32b441",
   "metadata": {
    "tags": []
   },
   "outputs": [],
   "source": [
    "class Laguerre_plot:\n",
    "    def __init__(self, laguerre, integral):\n",
    "        self.laguerre = laguerre\n",
    "        self.integral = integral\n",
    "\n",
    "    def laguerre_polynom_plot(self, t_max, n_max, t_step=0.01):\n",
    "        plt.figure(figsize=(20, 15))\n",
    "\n",
    "        for n in range(0, n_max + 1):\n",
    "            l_n_tabulation = self.laguerre.laguerre_polynom_tabulation(n=n, t_max=t_max, t_step=t_step)\n",
    "            plt.plot(l_n_tabulation['t'], l_n_tabulation[f'L_{n}'], label=f'L_{n}')\n",
    "\n",
    "        plt.title('Laguerre Polynomials')\n",
    "        plt.xlabel('t')\n",
    "        plt.ylabel('L_n(t)')\n",
    "        plt.legend()\n",
    "        plt.grid()\n",
    "        plt.show()\n",
    "\n",
    "    def laguerre_transform_plot(self, f, n_max, t_max=np.pi * 2, t_step=0.01, int_points=10000):\n",
    "        h = self.integral.laguerre_transform_tabulation(f=f, n_max=n_max)['L_n'].tolist()\n",
    "\n",
    "        T = np.arange(0, t_max, t_step)\n",
    "        inverse_laguerre_transform_tabulation = pd.DataFrame({'t': T, 'h': [self.integral.laguerre_transform(h=h, n_max=n_max, t=t) for t in T]})\n",
    "\n",
    "        plt.figure(figsize=(10, 10))\n",
    "        plt.plot(inverse_laguerre_transform_tabulation['t'], inverse_laguerre_transform_tabulation['h'])\n",
    "        plt.title('Inverse Laguerre Transform')\n",
    "        plt.xlabel('t')\n",
    "        plt.ylabel('func(t)')\n",
    "        plt.grid()\n",
    "        plt.show()"
   ]
  },
  {
   "cell_type": "code",
   "execution_count": 6,
   "id": "c97d1898-2f2f-4478-a1b7-75f41cb16fa0",
   "metadata": {
    "tags": []
   },
   "outputs": [],
   "source": [
    "class TestLaguerre(unittest.TestCase):\n",
    "    def setUp(self):\n",
    "        self.laguerre_instance = Laguerre(beta=2.0, sigma=4.0)\n",
    "\n",
    "    def test_init(self):\n",
    "        self.assertEqual(self.laguerre_instance.beta, 2.0)\n",
    "        self.assertEqual(self.laguerre_instance.sigma, 4.0)\n",
    "  \n",
    "\n",
    "    def test_laguerre_polynom(self):\n",
    "        laguerre = Laguerre(2, 4)\n",
    "        self.assertEqual(laguerre.laguerre_polynom(3, 5), 2.728331346558944)\n",
    "        self.assertEqual(laguerre.laguerre_polynom(0, 0), 2)\n",
    "        self.assertEqual(laguerre.laguerre_polynom(1, 1), -2.207276647028654)\n",
    "  \n",
    "    def test_laguerre_polynom_tabulation(self):\n",
    "        laguerre = Laguerre(2, 4)\n",
    "        self.assertEqual(laguerre.laguerre_polynom_tabulation(10, 20).shape, (200, 2))\n",
    "        self.assertAlmostEqual(laguerre.laguerre_polynom_tabulation(10, 20).iloc[0]['L_10'], 1.999999999999999)\n",
    "        self.assertAlmostEqual(laguerre.laguerre_polynom_tabulation(10, 20).iloc[199]['L_10'], 3022.018782358826)   \n"
   ]
  },
  {
   "cell_type": "code",
   "execution_count": 7,
   "id": "bbe76672-cb5f-4cfc-88c7-8942b36f1268",
   "metadata": {
    "tags": []
   },
   "outputs": [
    {
     "name": "stderr",
     "output_type": "stream",
     "text": [
      ".....\n",
      "----------------------------------------------------------------------\n",
      "Ran 5 tests in 0.069s\n",
      "\n",
      "OK\n"
     ]
    },
    {
     "data": {
      "text/plain": [
       "<unittest.main.TestProgram at 0x12f57d4d0>"
      ]
     },
     "execution_count": 7,
     "metadata": {},
     "output_type": "execute_result"
    }
   ],
   "source": [
    "class TestExperiment(unittest.TestCase):\n",
    "    def test_init(self):\n",
    "        laguerre = Laguerre(2, 4)\n",
    "        experiment = Experiment(laguerre)\n",
    "        self.assertEqual(experiment.laguerre, laguerre)\n",
    "        \n",
    "    def test_experiment(self):\n",
    "        laguerre = Laguerre(beta=2, sigma=4)  \n",
    "        exp = Experiment(laguerre)\n",
    "        df, ans = exp.experiment(90)  \n",
    "        self.assertEqual(df.shape, (91,2))  \n",
    "        self.assertEqual(ans, 0) \n",
    "        self.assertEqual(df['L_n'][0], 2.0)\n",
    "unittest.main(argv=[''], exit=False)"
   ]
  },
  {
   "cell_type": "code",
   "execution_count": null,
   "id": "e3d3b4cb-da58-4bb4-86fe-4bdafbb3c89c",
   "metadata": {},
   "outputs": [],
   "source": []
  }
 ],
 "metadata": {
  "kernelspec": {
   "display_name": "Python 3 (ipykernel)",
   "language": "python",
   "name": "python3"
  },
  "language_info": {
   "codemirror_mode": {
    "name": "ipython",
    "version": 3
   },
   "file_extension": ".py",
   "mimetype": "text/x-python",
   "name": "python",
   "nbconvert_exporter": "python",
   "pygments_lexer": "ipython3",
   "version": "3.11.4"
  }
 },
 "nbformat": 4,
 "nbformat_minor": 5
}
